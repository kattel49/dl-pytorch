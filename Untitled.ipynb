{
 "cells": [
  {
   "cell_type": "code",
   "execution_count": 4,
   "id": "565f4255",
   "metadata": {},
   "outputs": [
    {
     "name": "stdout",
     "output_type": "stream",
     "text": [
      "1.13.0+cu117\n"
     ]
    }
   ],
   "source": [
    "import torch\n",
    "import pandas as pd\n",
    "import numpy as np\n",
    "import matplotlib.pyplot as plt\n",
    "print(torch.__version__)"
   ]
  },
  {
   "cell_type": "code",
   "execution_count": 10,
   "id": "599770d3",
   "metadata": {},
   "outputs": [
    {
     "data": {
      "text/plain": [
       "tensor(49)"
      ]
     },
     "execution_count": 10,
     "metadata": {},
     "output_type": "execute_result"
    }
   ],
   "source": [
    "scalar = torch.tensor(49)\n",
    "scalar"
   ]
  },
  {
   "cell_type": "code",
   "execution_count": 11,
   "id": "b725fb9e",
   "metadata": {},
   "outputs": [
    {
     "data": {
      "text/plain": [
       "0"
      ]
     },
     "execution_count": 11,
     "metadata": {},
     "output_type": "execute_result"
    }
   ],
   "source": [
    "scalar.ndim"
   ]
  },
  {
   "cell_type": "code",
   "execution_count": 13,
   "id": "016c9dfc",
   "metadata": {},
   "outputs": [
    {
     "data": {
      "text/plain": [
       "49"
      ]
     },
     "execution_count": 13,
     "metadata": {},
     "output_type": "execute_result"
    }
   ],
   "source": [
    "# accessing the value of a scalar in pytorch\n",
    "scalar.item()"
   ]
  },
  {
   "cell_type": "code",
   "execution_count": 14,
   "id": "924953be",
   "metadata": {},
   "outputs": [
    {
     "data": {
      "text/plain": [
       "tensor([1, 2, 3, 4])"
      ]
     },
     "execution_count": 14,
     "metadata": {},
     "output_type": "execute_result"
    }
   ],
   "source": [
    "vector = torch.tensor([1,2,3,4])\n",
    "vector"
   ]
  },
  {
   "cell_type": "code",
   "execution_count": 15,
   "id": "77b3d18b",
   "metadata": {},
   "outputs": [
    {
     "data": {
      "text/plain": [
       "1"
      ]
     },
     "execution_count": 15,
     "metadata": {},
     "output_type": "execute_result"
    }
   ],
   "source": [
    "vector.ndim"
   ]
  },
  {
   "cell_type": "code",
   "execution_count": 19,
   "id": "a88c8412",
   "metadata": {},
   "outputs": [
    {
     "data": {
      "text/plain": [
       "torch.Size([4])"
      ]
     },
     "execution_count": 19,
     "metadata": {},
     "output_type": "execute_result"
    }
   ],
   "source": [
    "vector.shape"
   ]
  },
  {
   "cell_type": "code",
   "execution_count": 21,
   "id": "a029454f",
   "metadata": {},
   "outputs": [
    {
     "data": {
      "text/plain": [
       "tensor([[1, 2, 3],\n",
       "        [4, 5, 6]])"
      ]
     },
     "execution_count": 21,
     "metadata": {},
     "output_type": "execute_result"
    }
   ],
   "source": [
    "MATRIX = torch.tensor([[1,2,3],[4,5,6]])\n",
    "MATRIX"
   ]
  },
  {
   "cell_type": "code",
   "execution_count": 22,
   "id": "77069920",
   "metadata": {},
   "outputs": [
    {
     "data": {
      "text/plain": [
       "2"
      ]
     },
     "execution_count": 22,
     "metadata": {},
     "output_type": "execute_result"
    }
   ],
   "source": [
    "MATRIX.ndim"
   ]
  },
  {
   "cell_type": "code",
   "execution_count": 24,
   "id": "287cd0c7",
   "metadata": {},
   "outputs": [
    {
     "data": {
      "text/plain": [
       "torch.Size([2, 3])"
      ]
     },
     "execution_count": 24,
     "metadata": {},
     "output_type": "execute_result"
    }
   ],
   "source": [
    "MATRIX.size()"
   ]
  },
  {
   "cell_type": "code",
   "execution_count": 34,
   "id": "15658336",
   "metadata": {},
   "outputs": [
    {
     "data": {
      "text/plain": [
       "tensor([[[ 1,  2,  3],\n",
       "         [ 4,  5,  6],\n",
       "         [ 7,  8,  9],\n",
       "         [10, 11, 12]]])"
      ]
     },
     "execution_count": 34,
     "metadata": {},
     "output_type": "execute_result"
    }
   ],
   "source": [
    "TENSOR = torch.tensor([[[1,2,3],[4,5,6],[7,8,9],[10,11,12]]])\n",
    "TENSOR"
   ]
  },
  {
   "cell_type": "code",
   "execution_count": 35,
   "id": "41b04fc6",
   "metadata": {},
   "outputs": [
    {
     "data": {
      "text/plain": [
       "3"
      ]
     },
     "execution_count": 35,
     "metadata": {},
     "output_type": "execute_result"
    }
   ],
   "source": [
    "TENSOR.ndim"
   ]
  },
  {
   "cell_type": "code",
   "execution_count": 36,
   "id": "389de907",
   "metadata": {},
   "outputs": [
    {
     "data": {
      "text/plain": [
       "torch.Size([1, 4, 3])"
      ]
     },
     "execution_count": 36,
     "metadata": {},
     "output_type": "execute_result"
    }
   ],
   "source": [
    "TENSOR.shape"
   ]
  },
  {
   "cell_type": "code",
   "execution_count": 40,
   "id": "db30ad25",
   "metadata": {},
   "outputs": [],
   "source": [
    "### RANDOM TENSORS"
   ]
  },
  {
   "cell_type": "code",
   "execution_count": 41,
   "id": "a720089c",
   "metadata": {},
   "outputs": [],
   "source": [
    "random_tensor = torch.rand(size = (3,4,5))"
   ]
  },
  {
   "cell_type": "code",
   "execution_count": 44,
   "id": "fa0cd409",
   "metadata": {},
   "outputs": [
    {
     "data": {
      "text/plain": [
       "(tensor([[[0.4833, 0.7438, 0.0143, 0.4032, 0.8888],\n",
       "          [0.3329, 0.4983, 0.9962, 0.0402, 0.6374],\n",
       "          [0.2999, 0.2487, 0.4050, 0.7565, 0.5869],\n",
       "          [0.2179, 0.7667, 0.2188, 0.9059, 0.8967]],\n",
       " \n",
       "         [[0.7570, 0.1246, 0.6215, 0.0459, 0.2112],\n",
       "          [0.4235, 0.2597, 0.7324, 0.3333, 0.4360],\n",
       "          [0.3234, 0.4958, 0.4610, 0.7457, 0.9387],\n",
       "          [0.0096, 0.5487, 0.6974, 0.8732, 0.4320]],\n",
       " \n",
       "         [[0.1462, 0.8602, 0.9570, 0.3947, 0.5238],\n",
       "          [0.3494, 0.8426, 0.8719, 0.1199, 0.9349],\n",
       "          [0.2922, 0.1753, 0.3550, 0.3713, 0.9702],\n",
       "          [0.1367, 0.1650, 0.2790, 0.6904, 0.7639]]]),\n",
       " torch.float32)"
      ]
     },
     "execution_count": 44,
     "metadata": {},
     "output_type": "execute_result"
    }
   ],
   "source": [
    "random_tensor, random_tensor.dtype"
   ]
  },
  {
   "cell_type": "code",
   "execution_count": 45,
   "id": "f1c9e9b1",
   "metadata": {},
   "outputs": [],
   "source": [
    "random_image_size_tensor = torch.rand(size=(224,224,3))"
   ]
  },
  {
   "cell_type": "code",
   "execution_count": null,
   "id": "da2b475f",
   "metadata": {},
   "outputs": [],
   "source": [
    "random_image_size_tensor.shape, random_image_size_tensor.ndim"
   ]
  }
 ],
 "metadata": {
  "kernelspec": {
   "display_name": "Python 3 (ipykernel)",
   "language": "python",
   "name": "python3"
  },
  "language_info": {
   "codemirror_mode": {
    "name": "ipython",
    "version": 3
   },
   "file_extension": ".py",
   "mimetype": "text/x-python",
   "name": "python",
   "nbconvert_exporter": "python",
   "pygments_lexer": "ipython3",
   "version": "3.10.6"
  }
 },
 "nbformat": 4,
 "nbformat_minor": 5
}
