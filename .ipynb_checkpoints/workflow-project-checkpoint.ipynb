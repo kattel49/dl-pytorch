{
 "cells": [
  {
   "cell_type": "code",
   "execution_count": 1,
   "id": "a5964738",
   "metadata": {},
   "outputs": [],
   "source": [
    "import torch\n",
    "from torch import nn\n",
    "import matplotlib.pyplot as plt"
   ]
  },
  {
   "cell_type": "code",
   "execution_count": 3,
   "id": "c706a848",
   "metadata": {
    "scrolled": false
   },
   "outputs": [
    {
     "data": {
      "text/plain": [
       "'cuda'"
      ]
     },
     "execution_count": 3,
     "metadata": {},
     "output_type": "execute_result"
    }
   ],
   "source": [
    "device = \"cuda\" if torch.cuda.is_available() else \"cpu\"\n",
    "device"
   ]
  },
  {
   "cell_type": "code",
   "execution_count": 24,
   "id": "65f52a32",
   "metadata": {},
   "outputs": [],
   "source": [
    "def print_data(X_test, y_test, X_train, y_train, predictions=None):\n",
    "    plt.figure(figsize=(10,7))\n",
    "    plt.scatter(X_test, y_test, c='b', s=4, label=\"Testing data\")\n",
    "    plt.scatter(X_train, y_train, c='g', s=4, label=\"Training data\")\n",
    "    \n",
    "    if predictions is not None:\n",
    "        plt.scatter(X_train, predictions, c='r',s=4, label = \"Predictions\")\n",
    "    plt.legend(prop={\"size\": 14})"
   ]
  },
  {
   "cell_type": "code",
   "execution_count": 7,
   "id": "2c165bed",
   "metadata": {},
   "outputs": [],
   "source": [
    "weight = 0.2\n",
    "bias = 0.5\n",
    "\n",
    "start = 0\n",
    "end = 2\n",
    "step = 0.05\n",
    "\n",
    "X = torch.arange(start, end, step).unsqueeze(dim=1)\n",
    "y = weight*X + bias"
   ]
  },
  {
   "cell_type": "code",
   "execution_count": 8,
   "id": "33a49e58",
   "metadata": {},
   "outputs": [],
   "source": [
    "# split data\n",
    "split = int(0.8*len(X))\n",
    "X_train, y_train = X[:split], y[:split]\n",
    "X_test, y_test = X[split:], y[split:]"
   ]
  },
  {
   "cell_type": "code",
   "execution_count": 11,
   "id": "0cff030c",
   "metadata": {},
   "outputs": [
    {
     "data": {
      "image/png": "[encoded data removed]",
      "text/plain": [
       "<Figure size 1000x700 with 1 Axes>"
      ]
     },
     "metadata": {},
     "output_type": "display_data"
    }
   ],
   "source": [
    "print_data(X_train, y_train, X_test, y_test)"
   ]
  },
  {
   "cell_type": "code",
   "execution_count": 12,
   "id": "cd637ef1",
   "metadata": {},
   "outputs": [
    {
     "data": {
      "text/plain": [
       "(LinearModel(\n",
       "   (linear_layer): Linear(in_features=1, out_features=1, bias=True)\n",
       " ),\n",
       " OrderedDict([('linear_layer.weight', tensor([[0.7645]])),\n",
       "              ('linear_layer.bias', tensor([0.8300]))]))"
      ]
     },
     "execution_count": 12,
     "metadata": {},
     "output_type": "execute_result"
    }
   ],
   "source": [
    "class LinearModel(nn.Module):\n",
    "    def __init__(self):\n",
    "        super().__init__()\n",
    "        self.linear_layer = nn.Linear(in_features=1, out_features=1)\n",
    "    def forward(self, x: torch.Tensor) -> torch.Tensor:\n",
    "        return self.linear_layer(x)\n",
    "\n",
    "torch.manual_seed(42)\n",
    "model_1 = LinearModel()\n",
    "model_1, model_1.state_dict()"
   ]
  },
  {
   "cell_type": "code",
   "execution_count": 14,
   "id": "abf807a4",
   "metadata": {},
   "outputs": [
    {
     "data": {
      "text/plain": [
       "device(type='cpu')"
      ]
     },
     "execution_count": 14,
     "metadata": {},
     "output_type": "execute_result"
    }
   ],
   "source": [
    "next(model_1.parameters()).device"
   ]
  },
  {
   "cell_type": "code",
   "execution_count": 15,
   "id": "dd32b503",
   "metadata": {},
   "outputs": [
    {
     "data": {
      "text/plain": [
       "device(type='cuda', index=0)"
      ]
     },
     "execution_count": 15,
     "metadata": {},
     "output_type": "execute_result"
    }
   ],
   "source": [
    "model_1.to(device)\n",
    "next(model_1.parameters()).device"
   ]
  },
  {
   "cell_type": "code",
   "execution_count": 16,
   "id": "9c40d075",
   "metadata": {},
   "outputs": [],
   "source": [
    "loss_fn = nn.L1Loss()\n",
    "optimizer = torch.optim.SGD(params=model_1.parameters(), lr=0.01)"
   ]
  },
  {
   "cell_type": "code",
   "execution_count": 26,
   "id": "b51df535",
   "metadata": {},
   "outputs": [
    {
     "name": "stdout",
     "output_type": "stream",
     "text": [
      "Epoch: 0 | Train loss: 0.010260660201311111 | Test loss: 0.011535204946994781\n",
      "Epoch: 100 | Train loss: 0.010260660201311111 | Test loss: 0.011535204946994781\n",
      "Epoch: 200 | Train loss: 0.010260660201311111 | Test loss: 0.011535204946994781\n",
      "Epoch: 300 | Train loss: 0.010260660201311111 | Test loss: 0.011535204946994781\n",
      "Epoch: 400 | Train loss: 0.010260660201311111 | Test loss: 0.011535204946994781\n",
      "Epoch: 500 | Train loss: 0.010260660201311111 | Test loss: 0.011535204946994781\n",
      "Epoch: 600 | Train loss: 0.010260660201311111 | Test loss: 0.011535204946994781\n",
      "Epoch: 700 | Train loss: 0.010260660201311111 | Test loss: 0.011535204946994781\n",
      "Epoch: 800 | Train loss: 0.010260660201311111 | Test loss: 0.011535204946994781\n",
      "Epoch: 900 | Train loss: 0.010260660201311111 | Test loss: 0.011535204946994781\n"
     ]
    }
   ],
   "source": [
    "torch.manual_seed(42)\n",
    "\n",
    "epochs = 1000\n",
    "X_train = X_train.to(device)\n",
    "X_test = X_test.to(device)\n",
    "y_train = y_train.to(device)\n",
    "y_test = y_test.to(device)\n",
    "\n",
    "for epoch in range(epochs):\n",
    "    model_1.train()\n",
    "    \n",
    "    y_pred = model_1(X_train)\n",
    "    \n",
    "    loss = loss_fn(y_pred, y_train)\n",
    "    \n",
    "    optimizer.zero_grad()\n",
    "    \n",
    "    loss.backward()\n",
    "    \n",
    "    optimizer.step()\n",
    "    \n",
    "    model_1.eval()\n",
    "    with torch.inference_mode():\n",
    "        test_pred = model_1(X_test)\n",
    "        \n",
    "        test_loss = loss_fn(test_pred, y_test)\n",
    "        \n",
    "        if epoch%100 == 0:\n",
    "            print(f\"Epoch: {epoch} | Train loss: {loss} | Test loss: {test_loss}\")"
   ]
  },
  {
   "cell_type": "code",
   "execution_count": 27,
   "id": "edce9f8a",
   "metadata": {},
   "outputs": [
    {
     "name": "stdout",
     "output_type": "stream",
     "text": [
      "OrderedDict([('linear_layer.weight', tensor([[0.1980]], device='cuda:0')), ('linear_layer.bias', tensor([0.4913], device='cuda:0'))])\n",
      "Real Weight: 0.2, Bias: 0.5\n"
     ]
    }
   ],
   "source": [
    "print(model_1.state_dict())\n",
    "print(f\"Real Weight: {weight}, Bias: {bias}\")"
   ]
  },
  {
   "cell_type": "code",
   "execution_count": 20,
   "id": "36958c17",
   "metadata": {},
   "outputs": [
    {
     "data": {
      "text/plain": [
       "tensor([[0.8081],\n",
       "        [0.8180],\n",
       "        [0.8279],\n",
       "        [0.8378],\n",
       "        [0.8477],\n",
       "        [0.8576],\n",
       "        [0.8675],\n",
       "        [0.8774]], device='cuda:0')"
      ]
     },
     "execution_count": 20,
     "metadata": {},
     "output_type": "execute_result"
    }
   ],
   "source": [
    "model_1.eval()\n",
    "\n",
    "with torch.inference_mode():\n",
    "    y_preds = model_1(X_test)\n",
    "\n",
    "y_preds"
   ]
  },
  {
   "cell_type": "code",
   "execution_count": 28,
   "id": "e229e8fe",
   "metadata": {},
   "outputs": [
    {
     "data": {
      "image/png": "[encoded data removed]",
      "text/plain": [
       "<Figure size 1000x700 with 1 Axes>"
      ]
     },
     "metadata": {},
     "output_type": "display_data"
    }
   ],
   "source": [
    "print_data(X_train.cpu(), y_train.cpu(), X_test.cpu(), y_test.cpu(), y_preds.cpu())"
   ]
  },
  {
   "cell_type": "code",
   "execution_count": 29,
   "id": "2257163b",
   "metadata": {},
   "outputs": [],
   "source": [
    "from pathlib import Path\n",
    "\n",
    "MODEL_PATH = Path(\"models\")\n",
    "MODEL_PATH.mkdir(parents=True, exist_ok=True)\n",
    "\n",
    "MODEL_NAME = \"01_pytorch_model.pth\"\n",
    "MODEL_SAVE_PATH = MODEL_PATH / MODEL_NAME\n",
    "\n",
    "torch.save(obj = model_1.state_dict(), f=MODEL_SAVE_PATH)"
   ]
  },
  {
   "cell_type": "code",
   "execution_count": 30,
   "id": "78f142c5",
   "metadata": {},
   "outputs": [
    {
     "data": {
      "text/plain": [
       "LinearModel(\n",
       "  (linear_layer): Linear(in_features=1, out_features=1, bias=True)\n",
       ")"
      ]
     },
     "execution_count": 30,
     "metadata": {},
     "output_type": "execute_result"
    }
   ],
   "source": [
    "loaded_model_1 = LinearModel()\n",
    "loaded_model_1.load_state_dict(torch.load(MODEL_SAVE_PATH))\n",
    "loaded_model_1.to(device)"
   ]
  },
  {
   "cell_type": "code",
   "execution_count": 31,
   "id": "c6b11c26",
   "metadata": {},
   "outputs": [
    {
     "data": {
      "text/plain": [
       "tensor([[True],\n",
       "        [True],\n",
       "        [True],\n",
       "        [True],\n",
       "        [True],\n",
       "        [True],\n",
       "        [True],\n",
       "        [True]], device='cuda:0')"
      ]
     },
     "execution_count": 31,
     "metadata": {},
     "output_type": "execute_result"
    }
   ],
   "source": [
    "loaded_model_1.eval()\n",
    "with torch.inference_mode():\n",
    "    loaded_preds = loaded_model_1(X_test)\n",
    "y_preds == loaded_preds"
   ]
  },
  {
   "cell_type": "code",
   "execution_count": null,
   "id": "5219be38",
   "metadata": {},
   "outputs": [],
   "source": []
  }
 ],
 "metadata": {
  "kernelspec": {
   "display_name": "Python 3 (ipykernel)",
   "language": "python",
   "name": "python3"
  },
  "language_info": {
   "codemirror_mode": {
    "name": "ipython",
    "version": 3
   },
   "file_extension": ".py",
   "mimetype": "text/x-python",
   "name": "python",
   "nbconvert_exporter": "python",
   "pygments_lexer": "ipython3",
   "version": "3.10.6"
  }
 },
 "nbformat": 4,
 "nbformat_minor": 5
}
