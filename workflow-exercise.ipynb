{
 "cells": [
  {
   "cell_type": "code",
   "execution_count": 32,
   "id": "5ad13daf",
   "metadata": {},
   "outputs": [
    {
     "data": {
      "text/plain": [
       "'1.13.0+cu117'"
      ]
     },
     "execution_count": 32,
     "metadata": {},
     "output_type": "execute_result"
    }
   ],
   "source": [
    "import torch\n",
    "from torch import nn\n",
    "import matplotlib.pyplot as plt\n",
    "\n",
    "torch.__version__"
   ]
  },
  {
   "cell_type": "code",
   "execution_count": 33,
   "id": "ed580fad",
   "metadata": {},
   "outputs": [
    {
     "data": {
      "text/plain": [
       "'cuda'"
      ]
     },
     "execution_count": 33,
     "metadata": {},
     "output_type": "execute_result"
    }
   ],
   "source": [
    "device = \"cuda\" if torch.cuda.is_available() else \"cpu\"\n",
    "device"
   ]
  },
  {
   "cell_type": "code",
   "execution_count": 34,
   "id": "39f9506f",
   "metadata": {},
   "outputs": [
    {
     "data": {
      "text/plain": [
       "100"
      ]
     },
     "execution_count": 34,
     "metadata": {},
     "output_type": "execute_result"
    }
   ],
   "source": [
    "weight = 0.3\n",
    "bias = 0.9\n",
    "\n",
    "start = 0\n",
    "end = 10\n",
    "step = 0.1\n",
    "\n",
    "X = torch.arange(start, end, step).unsqueeze(dim=1)\n",
    "y = weight*X + bias\n",
    "len(X)"
   ]
  },
  {
   "cell_type": "code",
   "execution_count": 35,
   "id": "03abc2b6",
   "metadata": {},
   "outputs": [],
   "source": [
    "# split training and test data\n",
    "split = int(0.8*len(X))\n",
    "\n",
    "X_train, y_train = X[:split], y[:split]\n",
    "X_test, y_test = X[split:], y[split:]"
   ]
  },
  {
   "cell_type": "code",
   "execution_count": 36,
   "id": "ed299fba",
   "metadata": {},
   "outputs": [],
   "source": [
    "def plot_data(xt, yt, xtest, ytest, ypred=None):\n",
    "    plt.scatter(xt, yt, c='b', s=4, label=\"Training data\")\n",
    "    plt.scatter(xtest, ytest, c='g', s=4, label=\"Testing data\")\n",
    "    \n",
    "    if ypred is not None:\n",
    "        plt.scatter(xtest, ypred, c='r', s=4, label=\"Predicted data\")\n"
   ]
  },
  {
   "cell_type": "code",
   "execution_count": 37,
   "id": "f33a9cc0",
   "metadata": {},
   "outputs": [
    {
     "data": {
      "text/plain": [
       "OrderedDict([('linear_layer.weight', tensor([[-0.9252]])),\n",
       "             ('linear_layer.bias', tensor([0.5017]))])"
      ]
     },
     "execution_count": 37,
     "metadata": {},
     "output_type": "execute_result"
    }
   ],
   "source": [
    "class LinearModel(nn.Module):\n",
    "    def __init__(self):\n",
    "        super().__init__()\n",
    "        self.linear_layer = nn.Linear(in_features=1, out_features=1)\n",
    "    \n",
    "    def forward(self, x: torch.Tensor) -> torch.Tensor:\n",
    "        return self.linear_layer(x)\n",
    "\n",
    "model = LinearModel()\n",
    "model.state_dict()"
   ]
  },
  {
   "cell_type": "code",
   "execution_count": 38,
   "id": "a00932b6",
   "metadata": {},
   "outputs": [],
   "source": [
    "lossfn = nn.L1Loss()\n",
    "optimizer = torch.optim.SGD(params=model.parameters(), lr=0.01)"
   ]
  },
  {
   "cell_type": "code",
   "execution_count": 39,
   "id": "083c43b7",
   "metadata": {},
   "outputs": [
    {
     "data": {
      "image/png": "[encoded data removed]",
      "text/plain": [
       "<Figure size 640x480 with 1 Axes>"
      ]
     },
     "metadata": {},
     "output_type": "display_data"
    }
   ],
   "source": [
    "plot_data(X_train, y_train, X_test, y_test)"
   ]
  },
  {
   "cell_type": "code",
   "execution_count": 40,
   "id": "aeba39f6",
   "metadata": {},
   "outputs": [
    {
     "name": "stdout",
     "output_type": "stream",
     "text": [
      "Epoch: 0 | Loss: 5.23793363571167 | Test Loss: 11.000506401062012\n",
      "Epoch: 20 | Loss: 1.917433738708496 | Test Loss: 3.7300071716308594\n",
      "Epoch: 40 | Loss: 0.10768475383520126 | Test Loss: 0.039378572255373\n",
      "Epoch: 60 | Loss: 0.12619392573833466 | Test Loss: 0.03566253185272217\n",
      "Epoch: 80 | Loss: 0.1110248789191246 | Test Loss: 0.08881352096796036\n",
      "Epoch: 100 | Loss: 0.12638132274150848 | Test Loss: 0.06770419329404831\n",
      "Epoch: 120 | Loss: 0.13156907260417938 | Test Loss: 0.062361765652894974\n",
      "Epoch: 140 | Loss: 0.13401095569133759 | Test Loss: 0.06011192873120308\n",
      "Epoch: 160 | Loss: 0.13401095569133759 | Test Loss: 0.06011192873120308\n",
      "Epoch: 180 | Loss: 0.13401095569133759 | Test Loss: 0.06011192873120308\n",
      "Epoch: 200 | Loss: 0.13401095569133759 | Test Loss: 0.06011192873120308\n",
      "Epoch: 220 | Loss: 0.13401095569133759 | Test Loss: 0.06011192873120308\n",
      "Epoch: 240 | Loss: 0.13401095569133759 | Test Loss: 0.06011192873120308\n",
      "Epoch: 260 | Loss: 0.13401095569133759 | Test Loss: 0.06011192873120308\n",
      "Epoch: 280 | Loss: 0.13401095569133759 | Test Loss: 0.06011192873120308\n",
      "Epoch: 300 | Loss: 0.13401095569133759 | Test Loss: 0.06011192873120308\n",
      "Epoch: 320 | Loss: 0.13401095569133759 | Test Loss: 0.06011192873120308\n",
      "Epoch: 340 | Loss: 0.13401095569133759 | Test Loss: 0.06011192873120308\n",
      "Epoch: 360 | Loss: 0.13401095569133759 | Test Loss: 0.06011192873120308\n",
      "Epoch: 380 | Loss: 0.13401095569133759 | Test Loss: 0.06011192873120308\n"
     ]
    }
   ],
   "source": [
    "epochs = 400\n",
    "\n",
    "model.to(device)\n",
    "X_train = X_train.to(device)\n",
    "y_train = y_train.to(device)\n",
    "X_test = X_test.to(device)\n",
    "y_test = y_test.to(device)\n",
    "\n",
    "for epoch in range(epochs):\n",
    "    model.train()\n",
    "    \n",
    "    preds = model(X_train)\n",
    "    \n",
    "    loss = lossfn(preds, y_train)\n",
    "    \n",
    "    optimizer.zero_grad()\n",
    "    loss.backward()\n",
    "    optimizer.step()\n",
    "    \n",
    "    model.eval()\n",
    "    with torch.inference_mode():\n",
    "        testpreds = model(X_test)\n",
    "        testloss = lossfn(testpreds, y_test)\n",
    "        \n",
    "        if epoch % 20 == 0:\n",
    "            print(f\"Epoch: {epoch} | Loss: {loss} | Test Loss: {testloss}\")\n"
   ]
  },
  {
   "cell_type": "code",
   "execution_count": 41,
   "id": "efd1959b",
   "metadata": {},
   "outputs": [],
   "source": [
    "model.eval()\n",
    "with torch.inference_mode():\n",
    "    y_preds = model(X_test)"
   ]
  },
  {
   "cell_type": "code",
   "execution_count": 42,
   "id": "5b36dd4f",
   "metadata": {},
   "outputs": [
    {
     "data": {
      "image/png": "[encoded data removed]",
      "text/plain": [
       "<Figure size 640x480 with 1 Axes>"
      ]
     },
     "metadata": {},
     "output_type": "display_data"
    }
   ],
   "source": [
    "plot_data(X_train.cpu(), y_train.cpu(), X_test.cpu(), y_test.cpu(), y_preds.cpu())"
   ]
  },
  {
   "cell_type": "code",
   "execution_count": 45,
   "id": "49e30f27",
   "metadata": {},
   "outputs": [],
   "source": [
    "from pathlib import Path\n",
    "MODEL_PATH = Path('models')\n",
    "MODEL_PATH.mkdir(parents=True, exist_ok=True)\n",
    "\n",
    "MODEL_NAME = 'exercise_model.pth'\n",
    "MODEL_SAVE_PATH = MODEL_PATH / MODEL_NAME\n",
    "torch.save(obj=model.state_dict(), f=MODEL_SAVE_PATH)"
   ]
  },
  {
   "cell_type": "code",
   "execution_count": 46,
   "id": "3774d742",
   "metadata": {},
   "outputs": [
    {
     "ename": "TypeError",
     "evalue": "Module.load_state_dict() got an unexpected keyword argument 'f'",
     "output_type": "error",
     "traceback": [
      "\u001b[0;31m---------------------------------------------------------------------------\u001b[0m",
      "\u001b[0;31mTypeError\u001b[0m                                 Traceback (most recent call last)",
      "Cell \u001b[0;32mIn [46], line 2\u001b[0m\n\u001b[1;32m      1\u001b[0m loaded_model \u001b[38;5;241m=\u001b[39m LinearModel()\n\u001b[0;32m----> 2\u001b[0m \u001b[43mloaded_model\u001b[49m\u001b[38;5;241;43m.\u001b[39;49m\u001b[43mload_state_dict\u001b[49m\u001b[43m(\u001b[49m\u001b[43mf\u001b[49m\u001b[38;5;241;43m=\u001b[39;49m\u001b[43mMODEL_SAVE_PATH\u001b[49m\u001b[43m)\u001b[49m\n",
      "\u001b[0;31mTypeError\u001b[0m: Module.load_state_dict() got an unexpected keyword argument 'f'"
     ]
    }
   ],
   "source": [
    "loaded_model = LinearModel()\n",
    "loaded_model.load_state_dict(torch.loadMODEL_SAVE_PATH)"
   ]
  },
  {
   "cell_type": "code",
   "execution_count": null,
   "id": "2c1ca889",
   "metadata": {},
   "outputs": [],
   "source": []
  }
 ],
 "metadata": {
  "kernelspec": {
   "display_name": "Python 3 (ipykernel)",
   "language": "python",
   "name": "python3"
  },
  "language_info": {
   "codemirror_mode": {
    "name": "ipython",
    "version": 3
   },
   "file_extension": ".py",
   "mimetype": "text/x-python",
   "name": "python",
   "nbconvert_exporter": "python",
   "pygments_lexer": "ipython3",
   "version": "3.10.6"
  }
 },
 "nbformat": 4,
 "nbformat_minor": 5
}
